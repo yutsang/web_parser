{
 "cells": [
  {
   "cell_type": "code",
   "execution_count": 1,
   "metadata": {},
   "outputs": [
    {
     "name": "stderr",
     "output_type": "stream",
     "text": [
      "100%|██████████| 76/76 [03:52<00:00,  3.06s/it]\n",
      "100%|██████████| 19/19 [01:39<00:00,  5.22s/it]"
     ]
    },
    {
     "name": "stdout",
     "output_type": "stream",
     "text": [
      "<class 'pandas.core.frame.DataFrame'> <class 'pandas.core.frame.DataFrame'>\n"
     ]
    },
    {
     "name": "stderr",
     "output_type": "stream",
     "text": [
      "\n"
     ]
    },
    {
     "data": {
      "text/html": [
       "<div>\n",
       "<style scoped>\n",
       "    .dataframe tbody tr th:only-of-type {\n",
       "        vertical-align: middle;\n",
       "    }\n",
       "\n",
       "    .dataframe tbody tr th {\n",
       "        vertical-align: top;\n",
       "    }\n",
       "\n",
       "    .dataframe thead th {\n",
       "        text-align: right;\n",
       "    }\n",
       "</style>\n",
       "<table border=\"1\" class=\"dataframe\">\n",
       "  <thead>\n",
       "    <tr style=\"text-align: right;\">\n",
       "      <th></th>\n",
       "      <th>URL</th>\n",
       "      <th>Journal</th>\n",
       "      <th>DOI</th>\n",
       "      <th>Date of Publication</th>\n",
       "      <th>First Author</th>\n",
       "      <th>Title</th>\n",
       "      <th>Abstract</th>\n",
       "    </tr>\n",
       "  </thead>\n",
       "  <tbody>\n",
       "    <tr>\n",
       "      <th>0</th>\n",
       "      <td>https://ieeexplore.ieee.org/document/10081356</td>\n",
       "      <td>NaN</td>\n",
       "      <td>NaN</td>\n",
       "      <td>NaN</td>\n",
       "      <td>NaN</td>\n",
       "      <td>NaN</td>\n",
       "      <td>NaN</td>\n",
       "    </tr>\n",
       "    <tr>\n",
       "      <th>5</th>\n",
       "      <td>https://ieeexplore.ieee.org/document/8418321</td>\n",
       "      <td>NaN</td>\n",
       "      <td>NaN</td>\n",
       "      <td>NaN</td>\n",
       "      <td>NaN</td>\n",
       "      <td>NaN</td>\n",
       "      <td>NaN</td>\n",
       "    </tr>\n",
       "    <tr>\n",
       "      <th>11</th>\n",
       "      <td>https://ieeexplore.ieee.org/document/10302268</td>\n",
       "      <td>NaN</td>\n",
       "      <td>NaN</td>\n",
       "      <td>NaN</td>\n",
       "      <td>NaN</td>\n",
       "      <td>NaN</td>\n",
       "      <td>NaN</td>\n",
       "    </tr>\n",
       "    <tr>\n",
       "      <th>16</th>\n",
       "      <td>https://ieeexplore.ieee.org/document/10185002</td>\n",
       "      <td>NaN</td>\n",
       "      <td>NaN</td>\n",
       "      <td>NaN</td>\n",
       "      <td>NaN</td>\n",
       "      <td>NaN</td>\n",
       "      <td>NaN</td>\n",
       "    </tr>\n",
       "    <tr>\n",
       "      <th>36</th>\n",
       "      <td>https://ieeexplore.ieee.org/document/8692615</td>\n",
       "      <td>NaN</td>\n",
       "      <td>NaN</td>\n",
       "      <td>NaN</td>\n",
       "      <td>NaN</td>\n",
       "      <td>NaN</td>\n",
       "      <td>NaN</td>\n",
       "    </tr>\n",
       "  </tbody>\n",
       "</table>\n",
       "</div>"
      ],
      "text/plain": [
       "                                              URL  Journal  DOI  \\\n",
       "0   https://ieeexplore.ieee.org/document/10081356      NaN  NaN   \n",
       "5    https://ieeexplore.ieee.org/document/8418321      NaN  NaN   \n",
       "11  https://ieeexplore.ieee.org/document/10302268      NaN  NaN   \n",
       "16  https://ieeexplore.ieee.org/document/10185002      NaN  NaN   \n",
       "36   https://ieeexplore.ieee.org/document/8692615      NaN  NaN   \n",
       "\n",
       "    Date of Publication  First Author  Title  Abstract  \n",
       "0                   NaN           NaN    NaN       NaN  \n",
       "5                   NaN           NaN    NaN       NaN  \n",
       "11                  NaN           NaN    NaN       NaN  \n",
       "16                  NaN           NaN    NaN       NaN  \n",
       "36                  NaN           NaN    NaN       NaN  "
      ]
     },
     "execution_count": 1,
     "metadata": {},
     "output_type": "execute_result"
    }
   ],
   "source": [
    "from ieee_parser import *\n",
    "\n",
    "### IEEE\n",
    "# Define the search keywords for IEEE\n",
    "antibiotics_keywords = [\"antibiotic resistance\", \"antimicrobial resistance\", \"AMR\"]\n",
    "ai_keywords = [\"deep learning\", \"neural network\", \"embedding\", \"interpretable\", \"autoencoders\", \"CNN\", \"convolutional\", \"LSTM\", \"long short-term memory\", \"NLP\", \"Natural Language Processing\", \"transformer\", \"BERT\"]\n",
    "\n",
    "ieee_results = ieee_parser(antibiotics_keywords, ai_keywords) \n",
    "\n",
    "# Display the final DataFrame\n",
    "ieee_results.head()\n"
   ]
  },
  {
   "cell_type": "code",
   "execution_count": 2,
   "metadata": {},
   "outputs": [
    {
     "name": "stdout",
     "output_type": "stream",
     "text": [
      "Error fetching Google Scholar page 1: 429 Client Error: Too Many Requests for url: https://www.google.com/sorry/index?continue=https://scholar.google.com/scholar%3Fq%3D(antibiotic%2520resistance%2520OR%2520antimicrobial%2520resistance%2520OR%2520AMR)%2520AND%2520(%27deep%2520learning%27%2520OR%2520%27neural%2520network%27%2520OR%2520embedding%2520OR%2520interpretable%2520OR%2520autoencoders%2520OR%2520CNN%2520OR%2520convolutional%2520OR%2520LSTM%2520OR%2520%27long%2520short-term%2520memory%27%2520OR%2520NLP%2520OR%2520%27Natural%2520Language%2520Processing%27%2520OR%2520transformer%2520OR%2520BERT)%26start%3D0%26as_ylo%3D2023%26as_yhi%3D2024&q=EgSvn3wlGKiYkLMGIiwhR3tBfZ-dRl7bsyMbYF26wdsc434mR3iFormECJ93GzjGd_csqT3nvNPedTIBcloBQw\n",
      "Error fetching Google Scholar page 1: 429 Client Error: Too Many Requests for url: https://www.google.com/sorry/index?continue=https://scholar.google.com/scholar%3Fq%3D(antibiotic%2520resistance%2520OR%2520antimicrobial%2520resistance%2520OR%2520AMR)%2520AND%2520(%27deep%2520learning%27%2520OR%2520%27neural%2520network%27%2520OR%2520embedding%2520OR%2520interpretable%2520OR%2520autoencoders%2520OR%2520CNN%2520OR%2520convolutional%2520OR%2520LSTM%2520OR%2520%27long%2520short-term%2520memory%27%2520OR%2520NLP%2520OR%2520%27Natural%2520Language%2520Processing%27%2520OR%2520transformer%2520OR%2520BERT)%26start%3D0%26as_ylo%3D2023%26as_yhi%3D2024&q=EgSvn3wlGKqYkLMGIiyBkyN27DMkdTxe_H1a2Btc9qm9jq00OGdUjG0K7tRQ4JW21tlAAZDrC9YG6jIBcloBQw\n",
      "Error fetching Google Scholar page 1: 429 Client Error: Too Many Requests for url: https://www.google.com/sorry/index?continue=https://scholar.google.com/scholar%3Fq%3D(antibiotic%2520resistance%2520OR%2520antimicrobial%2520resistance%2520OR%2520AMR)%2520AND%2520(%27deep%2520learning%27%2520OR%2520%27neural%2520network%27%2520OR%2520embedding%2520OR%2520interpretable%2520OR%2520autoencoders%2520OR%2520CNN%2520OR%2520convolutional%2520OR%2520LSTM%2520OR%2520%27long%2520short-term%2520memory%27%2520OR%2520NLP%2520OR%2520%27Natural%2520Language%2520Processing%27%2520OR%2520transformer%2520OR%2520BERT)%26start%3D0%26as_ylo%3D2023%26as_yhi%3D2024&q=EgSvn3wlGK2YkLMGIiyksb-0xtpIxYckPA5Q1drGqs1ZIHPGN9c4df9c1UC0Jb4PIMgWoRwv6P7H8zIBcloBQw\n",
      "Error fetching Google Scholar page 2: 429 Client Error: Too Many Requests for url: https://www.google.com/sorry/index?continue=https://scholar.google.com/scholar%3Fq%3D(antibiotic%2520resistance%2520OR%2520antimicrobial%2520resistance%2520OR%2520AMR)%2520AND%2520(%27deep%2520learning%27%2520OR%2520%27neural%2520network%27%2520OR%2520embedding%2520OR%2520interpretable%2520OR%2520autoencoders%2520OR%2520CNN%2520OR%2520convolutional%2520OR%2520LSTM%2520OR%2520%27long%2520short-term%2520memory%27%2520OR%2520NLP%2520OR%2520%27Natural%2520Language%2520Processing%27%2520OR%2520transformer%2520OR%2520BERT)%26start%3D10%26as_ylo%3D2023%26as_yhi%3D2024&q=EgSvn3wlGLCYkLMGIixQ1bkZUevMp0EB3i1fuqeMo82UdyMqe_INnveFxEfoEMKZXLEymBudIC7iADIBcloBQw\n",
      "Error fetching Google Scholar page 2: 429 Client Error: Too Many Requests for url: https://www.google.com/sorry/index?continue=https://scholar.google.com/scholar%3Fq%3D(antibiotic%2520resistance%2520OR%2520antimicrobial%2520resistance%2520OR%2520AMR)%2520AND%2520(%27deep%2520learning%27%2520OR%2520%27neural%2520network%27%2520OR%2520embedding%2520OR%2520interpretable%2520OR%2520autoencoders%2520OR%2520CNN%2520OR%2520convolutional%2520OR%2520LSTM%2520OR%2520%27long%2520short-term%2520memory%27%2520OR%2520NLP%2520OR%2520%27Natural%2520Language%2520Processing%27%2520OR%2520transformer%2520OR%2520BERT)%26start%3D10%26as_ylo%3D2023%26as_yhi%3D2024&q=EgSvn3wlGLKYkLMGIixMqANwv2A0XDcoL17coC0OnZE4naMRGOEshENTv928q1jk1QOE8_JWNW3n_jIBcloBQw\n",
      "Error fetching Google Scholar page 2: 429 Client Error: Too Many Requests for url: https://www.google.com/sorry/index?continue=https://scholar.google.com/scholar%3Fq%3D(antibiotic%2520resistance%2520OR%2520antimicrobial%2520resistance%2520OR%2520AMR)%2520AND%2520(%27deep%2520learning%27%2520OR%2520%27neural%2520network%27%2520OR%2520embedding%2520OR%2520interpretable%2520OR%2520autoencoders%2520OR%2520CNN%2520OR%2520convolutional%2520OR%2520LSTM%2520OR%2520%27long%2520short-term%2520memory%27%2520OR%2520NLP%2520OR%2520%27Natural%2520Language%2520Processing%27%2520OR%2520transformer%2520OR%2520BERT)%26start%3D10%26as_ylo%3D2023%26as_yhi%3D2024&q=EgSvn3wlGLWYkLMGIixMfHKot0wy4XEqAHyMeh3B7UWrEN9Ce78jUGu2gZE4Y9z3e1_-a5jqZTAHwDIBcloBQw\n",
      "Error fetching Google Scholar page 3: 429 Client Error: Too Many Requests for url: https://www.google.com/sorry/index?continue=https://scholar.google.com/scholar%3Fq%3D(antibiotic%2520resistance%2520OR%2520antimicrobial%2520resistance%2520OR%2520AMR)%2520AND%2520(%27deep%2520learning%27%2520OR%2520%27neural%2520network%27%2520OR%2520embedding%2520OR%2520interpretable%2520OR%2520autoencoders%2520OR%2520CNN%2520OR%2520convolutional%2520OR%2520LSTM%2520OR%2520%27long%2520short-term%2520memory%27%2520OR%2520NLP%2520OR%2520%27Natural%2520Language%2520Processing%27%2520OR%2520transformer%2520OR%2520BERT)%26start%3D20%26as_ylo%3D2023%26as_yhi%3D2024&q=EgSvn3wlGLeYkLMGIizIhOH7kzexDdaEMCsffbMI36u8gJv8kdpwFh8ctM4-3JMYiepNdngN96D86jIBcloBQw\n",
      "Error fetching Google Scholar page 3: 429 Client Error: Too Many Requests for url: https://www.google.com/sorry/index?continue=https://scholar.google.com/scholar%3Fq%3D(antibiotic%2520resistance%2520OR%2520antimicrobial%2520resistance%2520OR%2520AMR)%2520AND%2520(%27deep%2520learning%27%2520OR%2520%27neural%2520network%27%2520OR%2520embedding%2520OR%2520interpretable%2520OR%2520autoencoders%2520OR%2520CNN%2520OR%2520convolutional%2520OR%2520LSTM%2520OR%2520%27long%2520short-term%2520memory%27%2520OR%2520NLP%2520OR%2520%27Natural%2520Language%2520Processing%27%2520OR%2520transformer%2520OR%2520BERT)%26start%3D20%26as_ylo%3D2023%26as_yhi%3D2024&q=EgSvn3wlGLqYkLMGIiyqRsLRp-2v5CwHARUqjMpYEhxZnuyU2CFJZIOnvaBc7wchPIPyd45BT5RnVzIBcloBQw\n",
      "Error fetching Google Scholar page 3: 429 Client Error: Too Many Requests for url: https://www.google.com/sorry/index?continue=https://scholar.google.com/scholar%3Fq%3D(antibiotic%2520resistance%2520OR%2520antimicrobial%2520resistance%2520OR%2520AMR)%2520AND%2520(%27deep%2520learning%27%2520OR%2520%27neural%2520network%27%2520OR%2520embedding%2520OR%2520interpretable%2520OR%2520autoencoders%2520OR%2520CNN%2520OR%2520convolutional%2520OR%2520LSTM%2520OR%2520%27long%2520short-term%2520memory%27%2520OR%2520NLP%2520OR%2520%27Natural%2520Language%2520Processing%27%2520OR%2520transformer%2520OR%2520BERT)%26start%3D20%26as_ylo%3D2023%26as_yhi%3D2024&q=EgSvn3wlGL2YkLMGIixMCNq1F8zPJ5lmNTeJQ04y2iXdULaKhlEl51mh7IyoLirsdo5PGtN2eV09sTIBcloBQw\n",
      "Error fetching Google Scholar page 4: 429 Client Error: Too Many Requests for url: https://www.google.com/sorry/index?continue=https://scholar.google.com/scholar%3Fq%3D(antibiotic%2520resistance%2520OR%2520antimicrobial%2520resistance%2520OR%2520AMR)%2520AND%2520(%27deep%2520learning%27%2520OR%2520%27neural%2520network%27%2520OR%2520embedding%2520OR%2520interpretable%2520OR%2520autoencoders%2520OR%2520CNN%2520OR%2520convolutional%2520OR%2520LSTM%2520OR%2520%27long%2520short-term%2520memory%27%2520OR%2520NLP%2520OR%2520%27Natural%2520Language%2520Processing%27%2520OR%2520transformer%2520OR%2520BERT)%26start%3D30%26as_ylo%3D2023%26as_yhi%3D2024&q=EgSvn3wlGL-YkLMGIizB723OnOKxCZJ0-ccRNeERH2LjoCYkkoGOCEVzSYtTyAsVZ0xtcfSUQbUaJjIBcloBQw\n",
      "Error fetching Google Scholar page 4: 429 Client Error: Too Many Requests for url: https://www.google.com/sorry/index?continue=https://scholar.google.com/scholar%3Fq%3D(antibiotic%2520resistance%2520OR%2520antimicrobial%2520resistance%2520OR%2520AMR)%2520AND%2520(%27deep%2520learning%27%2520OR%2520%27neural%2520network%27%2520OR%2520embedding%2520OR%2520interpretable%2520OR%2520autoencoders%2520OR%2520CNN%2520OR%2520convolutional%2520OR%2520LSTM%2520OR%2520%27long%2520short-term%2520memory%27%2520OR%2520NLP%2520OR%2520%27Natural%2520Language%2520Processing%27%2520OR%2520transformer%2520OR%2520BERT)%26start%3D30%26as_ylo%3D2023%26as_yhi%3D2024&q=EgSvn3wlGMKYkLMGIiwZPNpjVpOCUL7dok7q_wS-DiPVgOAsPRuhtKAo2tdWprwnrlrupcHCPFWqTTIBcloBQw\n",
      "Error fetching Google Scholar page 4: 429 Client Error: Too Many Requests for url: https://www.google.com/sorry/index?continue=https://scholar.google.com/scholar%3Fq%3D(antibiotic%2520resistance%2520OR%2520antimicrobial%2520resistance%2520OR%2520AMR)%2520AND%2520(%27deep%2520learning%27%2520OR%2520%27neural%2520network%27%2520OR%2520embedding%2520OR%2520interpretable%2520OR%2520autoencoders%2520OR%2520CNN%2520OR%2520convolutional%2520OR%2520LSTM%2520OR%2520%27long%2520short-term%2520memory%27%2520OR%2520NLP%2520OR%2520%27Natural%2520Language%2520Processing%27%2520OR%2520transformer%2520OR%2520BERT)%26start%3D30%26as_ylo%3D2023%26as_yhi%3D2024&q=EgSvn3wlGMWYkLMGIizARpoHxKC8eh3tYyJHrKOo4JjpuPtfx_IsU4Zvbai8VUnWU8FQRDDvSgU4NjIBcloBQw\n",
      "Error fetching Google Scholar page 5: 429 Client Error: Too Many Requests for url: https://www.google.com/sorry/index?continue=https://scholar.google.com/scholar%3Fq%3D(antibiotic%2520resistance%2520OR%2520antimicrobial%2520resistance%2520OR%2520AMR)%2520AND%2520(%27deep%2520learning%27%2520OR%2520%27neural%2520network%27%2520OR%2520embedding%2520OR%2520interpretable%2520OR%2520autoencoders%2520OR%2520CNN%2520OR%2520convolutional%2520OR%2520LSTM%2520OR%2520%27long%2520short-term%2520memory%27%2520OR%2520NLP%2520OR%2520%27Natural%2520Language%2520Processing%27%2520OR%2520transformer%2520OR%2520BERT)%26start%3D40%26as_ylo%3D2023%26as_yhi%3D2024&q=EgSvn3wlGMeYkLMGIiwJNUYzNDsRwXgMUl7kMhG0KyDrdvdP62OWH4bK392I0lFC5RwDjhunWapOoDIBcloBQw\n",
      "Error fetching Google Scholar page 5: 429 Client Error: Too Many Requests for url: https://www.google.com/sorry/index?continue=https://scholar.google.com/scholar%3Fq%3D(antibiotic%2520resistance%2520OR%2520antimicrobial%2520resistance%2520OR%2520AMR)%2520AND%2520(%27deep%2520learning%27%2520OR%2520%27neural%2520network%27%2520OR%2520embedding%2520OR%2520interpretable%2520OR%2520autoencoders%2520OR%2520CNN%2520OR%2520convolutional%2520OR%2520LSTM%2520OR%2520%27long%2520short-term%2520memory%27%2520OR%2520NLP%2520OR%2520%27Natural%2520Language%2520Processing%27%2520OR%2520transformer%2520OR%2520BERT)%26start%3D40%26as_ylo%3D2023%26as_yhi%3D2024&q=EgSvn3wlGMqYkLMGIixRhI-oPeyKPq_Pr4Rfwjp3k4dhdbKRJGe8X_Up6QJTewR5gwPnr5m0Xc-O8TIBcloBQw\n",
      "Error fetching Google Scholar page 5: 429 Client Error: Too Many Requests for url: https://www.google.com/sorry/index?continue=https://scholar.google.com/scholar%3Fq%3D(antibiotic%2520resistance%2520OR%2520antimicrobial%2520resistance%2520OR%2520AMR)%2520AND%2520(%27deep%2520learning%27%2520OR%2520%27neural%2520network%27%2520OR%2520embedding%2520OR%2520interpretable%2520OR%2520autoencoders%2520OR%2520CNN%2520OR%2520convolutional%2520OR%2520LSTM%2520OR%2520%27long%2520short-term%2520memory%27%2520OR%2520NLP%2520OR%2520%27Natural%2520Language%2520Processing%27%2520OR%2520transformer%2520OR%2520BERT)%26start%3D40%26as_ylo%3D2023%26as_yhi%3D2024&q=EgSvn3wlGMyYkLMGIiywQhY7rq2cjLlV9zPnDzfIyxz3nic53nniK1NvR99YJ1iRZEl1OUBYCRUQODIBcloBQw\n",
      "Error fetching Google Scholar page 6: 429 Client Error: Too Many Requests for url: https://www.google.com/sorry/index?continue=https://scholar.google.com/scholar%3Fq%3D(antibiotic%2520resistance%2520OR%2520antimicrobial%2520resistance%2520OR%2520AMR)%2520AND%2520(%27deep%2520learning%27%2520OR%2520%27neural%2520network%27%2520OR%2520embedding%2520OR%2520interpretable%2520OR%2520autoencoders%2520OR%2520CNN%2520OR%2520convolutional%2520OR%2520LSTM%2520OR%2520%27long%2520short-term%2520memory%27%2520OR%2520NLP%2520OR%2520%27Natural%2520Language%2520Processing%27%2520OR%2520transformer%2520OR%2520BERT)%26start%3D50%26as_ylo%3D2023%26as_yhi%3D2024&q=EgSvn3wlGM-YkLMGIiwspao8SN9v6bNw5FzHE1Tm0ramxHCkONY9q1CTMjwf8-GgIqi1P5VqTbnbdTIBcloBQw\n",
      "Error fetching Google Scholar page 6: 429 Client Error: Too Many Requests for url: https://www.google.com/sorry/index?continue=https://scholar.google.com/scholar%3Fq%3D(antibiotic%2520resistance%2520OR%2520antimicrobial%2520resistance%2520OR%2520AMR)%2520AND%2520(%27deep%2520learning%27%2520OR%2520%27neural%2520network%27%2520OR%2520embedding%2520OR%2520interpretable%2520OR%2520autoencoders%2520OR%2520CNN%2520OR%2520convolutional%2520OR%2520LSTM%2520OR%2520%27long%2520short-term%2520memory%27%2520OR%2520NLP%2520OR%2520%27Natural%2520Language%2520Processing%27%2520OR%2520transformer%2520OR%2520BERT)%26start%3D50%26as_ylo%3D2023%26as_yhi%3D2024&q=EgSvn3wlGNKYkLMGIiypPRLkH65QQIGP02zihDcY1Oc4rId6CTLodP2845RhjvIzbSP3PGXF_v8MTTIBcloBQw\n",
      "Error fetching Google Scholar page 6: 429 Client Error: Too Many Requests for url: https://www.google.com/sorry/index?continue=https://scholar.google.com/scholar%3Fq%3D(antibiotic%2520resistance%2520OR%2520antimicrobial%2520resistance%2520OR%2520AMR)%2520AND%2520(%27deep%2520learning%27%2520OR%2520%27neural%2520network%27%2520OR%2520embedding%2520OR%2520interpretable%2520OR%2520autoencoders%2520OR%2520CNN%2520OR%2520convolutional%2520OR%2520LSTM%2520OR%2520%27long%2520short-term%2520memory%27%2520OR%2520NLP%2520OR%2520%27Natural%2520Language%2520Processing%27%2520OR%2520transformer%2520OR%2520BERT)%26start%3D50%26as_ylo%3D2023%26as_yhi%3D2024&q=EgSvn3wlGNSYkLMGIiydQFF7jlbfGo1umFjrPipnaToFQoF1mF4aSsGvllj-ioeISNLxj4ORcK2JVTIBcloBQw\n",
      "Error fetching Google Scholar page 7: 429 Client Error: Too Many Requests for url: https://www.google.com/sorry/index?continue=https://scholar.google.com/scholar%3Fq%3D(antibiotic%2520resistance%2520OR%2520antimicrobial%2520resistance%2520OR%2520AMR)%2520AND%2520(%27deep%2520learning%27%2520OR%2520%27neural%2520network%27%2520OR%2520embedding%2520OR%2520interpretable%2520OR%2520autoencoders%2520OR%2520CNN%2520OR%2520convolutional%2520OR%2520LSTM%2520OR%2520%27long%2520short-term%2520memory%27%2520OR%2520NLP%2520OR%2520%27Natural%2520Language%2520Processing%27%2520OR%2520transformer%2520OR%2520BERT)%26start%3D60%26as_ylo%3D2023%26as_yhi%3D2024&q=EgSvn3wlGNeYkLMGIixDv2M9p-WrfMNuKsEzNEjUK7axHGmBrg0aw3cnM1igkxeRqm2g67tggLNB9jIBcloBQw\n",
      "Error fetching Google Scholar page 7: 429 Client Error: Too Many Requests for url: https://www.google.com/sorry/index?continue=https://scholar.google.com/scholar%3Fq%3D(antibiotic%2520resistance%2520OR%2520antimicrobial%2520resistance%2520OR%2520AMR)%2520AND%2520(%27deep%2520learning%27%2520OR%2520%27neural%2520network%27%2520OR%2520embedding%2520OR%2520interpretable%2520OR%2520autoencoders%2520OR%2520CNN%2520OR%2520convolutional%2520OR%2520LSTM%2520OR%2520%27long%2520short-term%2520memory%27%2520OR%2520NLP%2520OR%2520%27Natural%2520Language%2520Processing%27%2520OR%2520transformer%2520OR%2520BERT)%26start%3D60%26as_ylo%3D2023%26as_yhi%3D2024&q=EgSvn3wlGNqYkLMGIixIoQheGzwYzOJnf9xK4Ig5W-2D8sRS4qYg-n5lkNfxtMI876twQ_ujxiZ2rjIBcloBQw\n",
      "Error fetching Google Scholar page 7: 429 Client Error: Too Many Requests for url: https://www.google.com/sorry/index?continue=https://scholar.google.com/scholar%3Fq%3D(antibiotic%2520resistance%2520OR%2520antimicrobial%2520resistance%2520OR%2520AMR)%2520AND%2520(%27deep%2520learning%27%2520OR%2520%27neural%2520network%27%2520OR%2520embedding%2520OR%2520interpretable%2520OR%2520autoencoders%2520OR%2520CNN%2520OR%2520convolutional%2520OR%2520LSTM%2520OR%2520%27long%2520short-term%2520memory%27%2520OR%2520NLP%2520OR%2520%27Natural%2520Language%2520Processing%27%2520OR%2520transformer%2520OR%2520BERT)%26start%3D60%26as_ylo%3D2023%26as_yhi%3D2024&q=EgSvn3wlGNyYkLMGIizC2ebLOgSbrVqNFmwl0AbkE8K_uxUJDta8R1QbP0viWOT_UAUMnm564w_S8DIBcloBQw\n",
      "Error fetching Google Scholar page 8: 429 Client Error: Too Many Requests for url: https://www.google.com/sorry/index?continue=https://scholar.google.com/scholar%3Fq%3D(antibiotic%2520resistance%2520OR%2520antimicrobial%2520resistance%2520OR%2520AMR)%2520AND%2520(%27deep%2520learning%27%2520OR%2520%27neural%2520network%27%2520OR%2520embedding%2520OR%2520interpretable%2520OR%2520autoencoders%2520OR%2520CNN%2520OR%2520convolutional%2520OR%2520LSTM%2520OR%2520%27long%2520short-term%2520memory%27%2520OR%2520NLP%2520OR%2520%27Natural%2520Language%2520Processing%27%2520OR%2520transformer%2520OR%2520BERT)%26start%3D70%26as_ylo%3D2023%26as_yhi%3D2024&q=EgSvn3wlGN-YkLMGIixTCMNua9ejT_AYBBRKPgVPb8nDQOhC65Hxe0PdKOvMTLZNI47X9flo4d3JmjIBcloBQw\n",
      "Error fetching Google Scholar page 8: 429 Client Error: Too Many Requests for url: https://www.google.com/sorry/index?continue=https://scholar.google.com/scholar%3Fq%3D(antibiotic%2520resistance%2520OR%2520antimicrobial%2520resistance%2520OR%2520AMR)%2520AND%2520(%27deep%2520learning%27%2520OR%2520%27neural%2520network%27%2520OR%2520embedding%2520OR%2520interpretable%2520OR%2520autoencoders%2520OR%2520CNN%2520OR%2520convolutional%2520OR%2520LSTM%2520OR%2520%27long%2520short-term%2520memory%27%2520OR%2520NLP%2520OR%2520%27Natural%2520Language%2520Processing%27%2520OR%2520transformer%2520OR%2520BERT)%26start%3D70%26as_ylo%3D2023%26as_yhi%3D2024&q=EgSvn3wlGOGYkLMGIiy1a1M5OFDCyFmC95GYyYGEqwV_dcCXXgRyQ1aa2BQL2LrvvmylpmdVvEBLuDIBcloBQw\n",
      "Error fetching Google Scholar page 8: 429 Client Error: Too Many Requests for url: https://www.google.com/sorry/index?continue=https://scholar.google.com/scholar%3Fq%3D(antibiotic%2520resistance%2520OR%2520antimicrobial%2520resistance%2520OR%2520AMR)%2520AND%2520(%27deep%2520learning%27%2520OR%2520%27neural%2520network%27%2520OR%2520embedding%2520OR%2520interpretable%2520OR%2520autoencoders%2520OR%2520CNN%2520OR%2520convolutional%2520OR%2520LSTM%2520OR%2520%27long%2520short-term%2520memory%27%2520OR%2520NLP%2520OR%2520%27Natural%2520Language%2520Processing%27%2520OR%2520transformer%2520OR%2520BERT)%26start%3D70%26as_ylo%3D2023%26as_yhi%3D2024&q=EgSvn3wlGOSYkLMGIixWB_oPky76OyZjAY5H67HXEkcHidgOTgrZwJAsr6qpX4MQroQH-O4xYjpTCzIBcloBQw\n",
      "Error fetching Google Scholar page 9: 429 Client Error: Too Many Requests for url: https://www.google.com/sorry/index?continue=https://scholar.google.com/scholar%3Fq%3D(antibiotic%2520resistance%2520OR%2520antimicrobial%2520resistance%2520OR%2520AMR)%2520AND%2520(%27deep%2520learning%27%2520OR%2520%27neural%2520network%27%2520OR%2520embedding%2520OR%2520interpretable%2520OR%2520autoencoders%2520OR%2520CNN%2520OR%2520convolutional%2520OR%2520LSTM%2520OR%2520%27long%2520short-term%2520memory%27%2520OR%2520NLP%2520OR%2520%27Natural%2520Language%2520Processing%27%2520OR%2520transformer%2520OR%2520BERT)%26start%3D80%26as_ylo%3D2023%26as_yhi%3D2024&q=EgSvn3wlGOeYkLMGIizaKTnBApYmGmt72fqkKQKFFf9_TrWgFRpSfIo6fJM8FBiqTnuY3BJkvcgPPDIBcloBQw\n",
      "Error fetching Google Scholar page 9: 429 Client Error: Too Many Requests for url: https://www.google.com/sorry/index?continue=https://scholar.google.com/scholar%3Fq%3D(antibiotic%2520resistance%2520OR%2520antimicrobial%2520resistance%2520OR%2520AMR)%2520AND%2520(%27deep%2520learning%27%2520OR%2520%27neural%2520network%27%2520OR%2520embedding%2520OR%2520interpretable%2520OR%2520autoencoders%2520OR%2520CNN%2520OR%2520convolutional%2520OR%2520LSTM%2520OR%2520%27long%2520short-term%2520memory%27%2520OR%2520NLP%2520OR%2520%27Natural%2520Language%2520Processing%27%2520OR%2520transformer%2520OR%2520BERT)%26start%3D80%26as_ylo%3D2023%26as_yhi%3D2024&q=EgSvn3wlGOmYkLMGIiyIiYym4cHEfsTNKvFBoQQpV6SkGh-3sEqFbQhFqoWFSh9lT6lgDnRfdvPbgjIBcloBQw\n",
      "Error fetching Google Scholar page 9: 429 Client Error: Too Many Requests for url: https://www.google.com/sorry/index?continue=https://scholar.google.com/scholar%3Fq%3D(antibiotic%2520resistance%2520OR%2520antimicrobial%2520resistance%2520OR%2520AMR)%2520AND%2520(%27deep%2520learning%27%2520OR%2520%27neural%2520network%27%2520OR%2520embedding%2520OR%2520interpretable%2520OR%2520autoencoders%2520OR%2520CNN%2520OR%2520convolutional%2520OR%2520LSTM%2520OR%2520%27long%2520short-term%2520memory%27%2520OR%2520NLP%2520OR%2520%27Natural%2520Language%2520Processing%27%2520OR%2520transformer%2520OR%2520BERT)%26start%3D80%26as_ylo%3D2023%26as_yhi%3D2024&q=EgSvn3wlGOyYkLMGIiyhgyLMqOgHk4hW4CB89bqJ5h5FL4qhwJr065PA-DqMLysZR64QLaq7P0ciETIBcloBQw\n",
      "Error fetching Google Scholar page 10: 429 Client Error: Too Many Requests for url: https://www.google.com/sorry/index?continue=https://scholar.google.com/scholar%3Fq%3D(antibiotic%2520resistance%2520OR%2520antimicrobial%2520resistance%2520OR%2520AMR)%2520AND%2520(%27deep%2520learning%27%2520OR%2520%27neural%2520network%27%2520OR%2520embedding%2520OR%2520interpretable%2520OR%2520autoencoders%2520OR%2520CNN%2520OR%2520convolutional%2520OR%2520LSTM%2520OR%2520%27long%2520short-term%2520memory%27%2520OR%2520NLP%2520OR%2520%27Natural%2520Language%2520Processing%27%2520OR%2520transformer%2520OR%2520BERT)%26start%3D90%26as_ylo%3D2023%26as_yhi%3D2024&q=EgSvn3wlGO-YkLMGIixVsc6G_YVdb3U2XZjii7Rr8BWnjs3t_SA17mVwBghE0rRrCbeyFMf0mJZwYTIBcloBQw\n",
      "Error fetching Google Scholar page 10: 429 Client Error: Too Many Requests for url: https://www.google.com/sorry/index?continue=https://scholar.google.com/scholar%3Fq%3D(antibiotic%2520resistance%2520OR%2520antimicrobial%2520resistance%2520OR%2520AMR)%2520AND%2520(%27deep%2520learning%27%2520OR%2520%27neural%2520network%27%2520OR%2520embedding%2520OR%2520interpretable%2520OR%2520autoencoders%2520OR%2520CNN%2520OR%2520convolutional%2520OR%2520LSTM%2520OR%2520%27long%2520short-term%2520memory%27%2520OR%2520NLP%2520OR%2520%27Natural%2520Language%2520Processing%27%2520OR%2520transformer%2520OR%2520BERT)%26start%3D90%26as_ylo%3D2023%26as_yhi%3D2024&q=EgSvn3wlGPGYkLMGIiyauMoHLEZiLx4MpMDXN5X-xlLCVC6eIGRBw0eDNgASJ-zGkvIg_CUBiFZy6jIBcloBQw\n",
      "Error fetching Google Scholar page 10: 429 Client Error: Too Many Requests for url: https://www.google.com/sorry/index?continue=https://scholar.google.com/scholar%3Fq%3D(antibiotic%2520resistance%2520OR%2520antimicrobial%2520resistance%2520OR%2520AMR)%2520AND%2520(%27deep%2520learning%27%2520OR%2520%27neural%2520network%27%2520OR%2520embedding%2520OR%2520interpretable%2520OR%2520autoencoders%2520OR%2520CNN%2520OR%2520convolutional%2520OR%2520LSTM%2520OR%2520%27long%2520short-term%2520memory%27%2520OR%2520NLP%2520OR%2520%27Natural%2520Language%2520Processing%27%2520OR%2520transformer%2520OR%2520BERT)%26start%3D90%26as_ylo%3D2023%26as_yhi%3D2024&q=EgSvn3wlGPSYkLMGIiwMaSyvWOhP-hhXRyhjmyQFB2KHvAoDEy1Ryd4XwD2j8Igl_UOKkkJU6e9TRTIBcloBQw\n"
     ]
    },
    {
     "ename": "TypeError",
     "evalue": "list indices must be integers or slices, not list",
     "output_type": "error",
     "traceback": [
      "\u001b[0;31m---------------------------------------------------------------------------\u001b[0m",
      "\u001b[0;31mTypeError\u001b[0m                                 Traceback (most recent call last)",
      "Cell \u001b[0;32mIn[2], line 9\u001b[0m\n\u001b[1;32m      6\u001b[0m google_scholar_results \u001b[38;5;241m=\u001b[39m search_google_scholar(search_equation)\n\u001b[1;32m      8\u001b[0m \u001b[38;5;66;03m# Display the first few rows of the DataFrame\u001b[39;00m\n\u001b[0;32m----> 9\u001b[0m \u001b[43mgoogle_scholar_results\u001b[49m\u001b[43m[\u001b[49m\u001b[43m[\u001b[49m\u001b[38;5;124;43m'\u001b[39;49m\u001b[38;5;124;43mTitle\u001b[39;49m\u001b[38;5;124;43m'\u001b[39;49m\u001b[43m,\u001b[49m\u001b[43m \u001b[49m\u001b[38;5;124;43m'\u001b[39;49m\u001b[38;5;124;43mFirst Author\u001b[39;49m\u001b[38;5;124;43m'\u001b[39;49m\u001b[43m,\u001b[49m\u001b[43m \u001b[49m\u001b[38;5;124;43m'\u001b[39;49m\u001b[38;5;124;43mOther Authors\u001b[39;49m\u001b[38;5;124;43m'\u001b[39;49m\u001b[43m,\u001b[49m\u001b[43m \u001b[49m\u001b[38;5;124;43m'\u001b[39;49m\u001b[38;5;124;43mYear\u001b[39;49m\u001b[38;5;124;43m'\u001b[39;49m\u001b[43m,\u001b[49m\u001b[43m \u001b[49m\u001b[38;5;124;43m'\u001b[39;49m\u001b[38;5;124;43mJournal\u001b[39;49m\u001b[38;5;124;43m'\u001b[39;49m\u001b[43m,\u001b[49m\u001b[43m \u001b[49m\u001b[38;5;124;43m'\u001b[39;49m\u001b[38;5;124;43mDOI\u001b[39;49m\u001b[38;5;124;43m'\u001b[39;49m\u001b[43m,\u001b[49m\u001b[43m \u001b[49m\u001b[38;5;124;43m'\u001b[39;49m\u001b[38;5;124;43mLink Connectable\u001b[39;49m\u001b[38;5;124;43m'\u001b[39;49m\u001b[43m]\u001b[49m\u001b[43m]\u001b[49m\u001b[38;5;241m.\u001b[39mhead()\n",
      "\u001b[0;31mTypeError\u001b[0m: list indices must be integers or slices, not list"
     ]
    }
   ],
   "source": [
    "from google_parser import *\n",
    "# Google Scholar\n",
    "# Define the search equation\n",
    "search_equation = \"(antibiotic resistance OR antimicrobial resistance OR AMR) AND ('deep learning' OR 'neural network' OR embedding OR interpretable OR autoencoders OR CNN OR convolutional OR LSTM OR 'long short-term memory' OR NLP OR 'Natural Language Processing' OR transformer OR BERT)\"\n",
    "\n",
    "google_scholar_results = search_google_scholar(search_equation)\n",
    "\n",
    "# Display the first few rows of the DataFrame\n",
    "google_scholar_results[['Title', 'First Author', 'Other Authors', 'Year', 'Journal', 'DOI', 'Link Connectable']].head()\n"
   ]
  }
 ],
 "metadata": {
  "kernelspec": {
   "display_name": "base",
   "language": "python",
   "name": "python3"
  },
  "language_info": {
   "codemirror_mode": {
    "name": "ipython",
    "version": 3
   },
   "file_extension": ".py",
   "mimetype": "text/x-python",
   "name": "python",
   "nbconvert_exporter": "python",
   "pygments_lexer": "ipython3",
   "version": "3.10.14"
  }
 },
 "nbformat": 4,
 "nbformat_minor": 2
}
